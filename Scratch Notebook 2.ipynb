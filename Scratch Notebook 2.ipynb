{
 "cells": [
  {
   "cell_type": "code",
   "execution_count": 35,
   "id": "7e411259",
   "metadata": {},
   "outputs": [],
   "source": [
    "# ignore warnings\n",
    "import warnings\n",
    "warnings.filterwarnings(\"ignore\")\n",
    "\n",
    "# Wrangling\n",
    "import pandas as pd\n",
    "import numpy as np\n",
    "\n",
    "# Exploring\n",
    "import scipy.stats as stats\n",
    "\n",
    "# Visualizing\n",
    "%matplotlib inline\n",
    "import matplotlib.pyplot as plt\n",
    "import seaborn as sns\n",
    "\n",
    "# sklearn\n",
    "from sklearn.model_selection import train_test_split \n",
    "from sklearn.preprocessing import MinMaxScaler\n",
    "from sklearn.impute import KNNImputer\n",
    "import env\n",
    "from scipy.stats import pearsonr\n",
    "\n",
    "import wrangle_zillow\n",
    "\n",
    "#import extra classes for modeling \n",
    "from sklearn.preprocessing import StandardScaler\n",
    "from sklearn.linear_model import Lasso \n",
    "from sklearn.pipeline import Pipeline \n",
    "from sklearn.model_selection import GridSearchCV\n",
    "\n",
    "df = wrangle_zillow.acquire()\n",
    "\n",
    "pd.options.display.max_rows = 100 \n",
    "\n",
    "# default pandas decimal number display format\n",
    "pd.options.display.float_format = '{:20,.2f}'.format"
   ]
  },
  {
   "cell_type": "code",
   "execution_count": 36,
   "id": "8e199ddf",
   "metadata": {},
   "outputs": [
    {
     "data": {
      "text/plain": [
       "(77380, 68)"
      ]
     },
     "execution_count": 36,
     "metadata": {},
     "output_type": "execute_result"
    }
   ],
   "source": [
    "df.shape"
   ]
  },
  {
   "cell_type": "code",
   "execution_count": 37,
   "id": "7d0a1e13",
   "metadata": {},
   "outputs": [],
   "source": [
    "df = wrangle_zillow.prepare_data(df)"
   ]
  },
  {
   "cell_type": "code",
   "execution_count": 38,
   "id": "733df9cf",
   "metadata": {},
   "outputs": [
    {
     "data": {
      "text/plain": [
       "(50616, 40)"
      ]
     },
     "execution_count": 38,
     "metadata": {},
     "output_type": "execute_result"
    }
   ],
   "source": [
    "df.shape"
   ]
  },
  {
   "cell_type": "code",
   "execution_count": 39,
   "id": "f0794725",
   "metadata": {},
   "outputs": [],
   "source": [
    "train, validate, test = wrangle_zillow.split_zillow_data(df)"
   ]
  },
  {
   "cell_type": "markdown",
   "id": "fedae5af",
   "metadata": {},
   "source": [
    "### Filtering complete, started with 77380 rows, end 50616 rows"
   ]
  },
  {
   "cell_type": "code",
   "execution_count": 40,
   "id": "6433c034",
   "metadata": {},
   "outputs": [],
   "source": [
    "#drop columns \n",
    "train.drop(columns=['bathroomcnt', 'yearbuilt', 'finishedsquarefeet12', 'bedroomcnt', 'calculatedbathnbr', 'fullbathcnt', 'latitude', 'longitude', 'lotsizesquarefeet', 'propertylandusetypeid', 'rawcensustractandblock', 'regionidcity', 'regionidcounty', 'regionidzip', 'roomcnt', 'assessmentyear', 'censustractandblock'], inplace=True)"
   ]
  },
  {
   "cell_type": "code",
   "execution_count": 41,
   "id": "6cbdd95c",
   "metadata": {},
   "outputs": [],
   "source": [
    "columns_to_scale=['calculatedfinishedsquarefeet', 'structuretaxvaluedollarcnt',\n",
    "       'taxvaluedollarcnt', 'landtaxvaluedollarcnt', 'taxamount', 'age', 'Sqft_age', 'Sqft_structuretax',\n",
    "       'Sqft_taxvalue', 'Sqft_landtax', 'Sqft_taxamount', 'age_structuretax',\n",
    "       'age_taxvalue', 'age_landtax', 'age_taxamount', 'Structuretax_taxvalue',\n",
    "       'Structuretax_landtax', 'Landtax_taxamount', 'structuretax_taxamount',\n",
    "       'taxvalue_landtax', 'taxvalue_taxamount']"
   ]
  },
  {
   "cell_type": "code",
   "execution_count": 42,
   "id": "f8ef3aea",
   "metadata": {},
   "outputs": [],
   "source": [
    "train_scaled = train.copy()\n",
    "validate_scaled = validate.copy()\n",
    "test_scaled = test.copy()"
   ]
  },
  {
   "cell_type": "code",
   "execution_count": 43,
   "id": "d3f9dbfb",
   "metadata": {},
   "outputs": [
    {
     "data": {
      "text/html": [
       "<style>#sk-container-id-2 {color: black;background-color: white;}#sk-container-id-2 pre{padding: 0;}#sk-container-id-2 div.sk-toggleable {background-color: white;}#sk-container-id-2 label.sk-toggleable__label {cursor: pointer;display: block;width: 100%;margin-bottom: 0;padding: 0.3em;box-sizing: border-box;text-align: center;}#sk-container-id-2 label.sk-toggleable__label-arrow:before {content: \"▸\";float: left;margin-right: 0.25em;color: #696969;}#sk-container-id-2 label.sk-toggleable__label-arrow:hover:before {color: black;}#sk-container-id-2 div.sk-estimator:hover label.sk-toggleable__label-arrow:before {color: black;}#sk-container-id-2 div.sk-toggleable__content {max-height: 0;max-width: 0;overflow: hidden;text-align: left;background-color: #f0f8ff;}#sk-container-id-2 div.sk-toggleable__content pre {margin: 0.2em;color: black;border-radius: 0.25em;background-color: #f0f8ff;}#sk-container-id-2 input.sk-toggleable__control:checked~div.sk-toggleable__content {max-height: 200px;max-width: 100%;overflow: auto;}#sk-container-id-2 input.sk-toggleable__control:checked~label.sk-toggleable__label-arrow:before {content: \"▾\";}#sk-container-id-2 div.sk-estimator input.sk-toggleable__control:checked~label.sk-toggleable__label {background-color: #d4ebff;}#sk-container-id-2 div.sk-label input.sk-toggleable__control:checked~label.sk-toggleable__label {background-color: #d4ebff;}#sk-container-id-2 input.sk-hidden--visually {border: 0;clip: rect(1px 1px 1px 1px);clip: rect(1px, 1px, 1px, 1px);height: 1px;margin: -1px;overflow: hidden;padding: 0;position: absolute;width: 1px;}#sk-container-id-2 div.sk-estimator {font-family: monospace;background-color: #f0f8ff;border: 1px dotted black;border-radius: 0.25em;box-sizing: border-box;margin-bottom: 0.5em;}#sk-container-id-2 div.sk-estimator:hover {background-color: #d4ebff;}#sk-container-id-2 div.sk-parallel-item::after {content: \"\";width: 100%;border-bottom: 1px solid gray;flex-grow: 1;}#sk-container-id-2 div.sk-label:hover label.sk-toggleable__label {background-color: #d4ebff;}#sk-container-id-2 div.sk-serial::before {content: \"\";position: absolute;border-left: 1px solid gray;box-sizing: border-box;top: 0;bottom: 0;left: 50%;z-index: 0;}#sk-container-id-2 div.sk-serial {display: flex;flex-direction: column;align-items: center;background-color: white;padding-right: 0.2em;padding-left: 0.2em;position: relative;}#sk-container-id-2 div.sk-item {position: relative;z-index: 1;}#sk-container-id-2 div.sk-parallel {display: flex;align-items: stretch;justify-content: center;background-color: white;position: relative;}#sk-container-id-2 div.sk-item::before, #sk-container-id-2 div.sk-parallel-item::before {content: \"\";position: absolute;border-left: 1px solid gray;box-sizing: border-box;top: 0;bottom: 0;left: 50%;z-index: -1;}#sk-container-id-2 div.sk-parallel-item {display: flex;flex-direction: column;z-index: 1;position: relative;background-color: white;}#sk-container-id-2 div.sk-parallel-item:first-child::after {align-self: flex-end;width: 50%;}#sk-container-id-2 div.sk-parallel-item:last-child::after {align-self: flex-start;width: 50%;}#sk-container-id-2 div.sk-parallel-item:only-child::after {width: 0;}#sk-container-id-2 div.sk-dashed-wrapped {border: 1px dashed gray;margin: 0 0.4em 0.5em 0.4em;box-sizing: border-box;padding-bottom: 0.4em;background-color: white;}#sk-container-id-2 div.sk-label label {font-family: monospace;font-weight: bold;display: inline-block;line-height: 1.2em;}#sk-container-id-2 div.sk-label-container {text-align: center;}#sk-container-id-2 div.sk-container {/* jupyter's `normalize.less` sets `[hidden] { display: none; }` but bootstrap.min.css set `[hidden] { display: none !important; }` so we also need the `!important` here to be able to override the default hidden behavior on the sphinx rendered scikit-learn.org. See: https://github.com/scikit-learn/scikit-learn/issues/21755 */display: inline-block !important;position: relative;}#sk-container-id-2 div.sk-text-repr-fallback {display: none;}</style><div id=\"sk-container-id-2\" class=\"sk-top-container\"><div class=\"sk-text-repr-fallback\"><pre>MinMaxScaler()</pre><b>In a Jupyter environment, please rerun this cell to show the HTML representation or trust the notebook. <br />On GitHub, the HTML representation is unable to render, please try loading this page with nbviewer.org.</b></div><div class=\"sk-container\" hidden><div class=\"sk-item\"><div class=\"sk-estimator sk-toggleable\"><input class=\"sk-toggleable__control sk-hidden--visually\" id=\"sk-estimator-id-2\" type=\"checkbox\" checked><label for=\"sk-estimator-id-2\" class=\"sk-toggleable__label sk-toggleable__label-arrow\">MinMaxScaler</label><div class=\"sk-toggleable__content\"><pre>MinMaxScaler()</pre></div></div></div></div></div>"
      ],
      "text/plain": [
       "MinMaxScaler()"
      ]
     },
     "execution_count": 43,
     "metadata": {},
     "output_type": "execute_result"
    }
   ],
   "source": [
    "scaler = MinMaxScaler()\n",
    "scaler.fit(train[columns_to_scale])"
   ]
  },
  {
   "cell_type": "code",
   "execution_count": 44,
   "id": "e91c6318",
   "metadata": {},
   "outputs": [],
   "source": [
    "train_scaled[columns_to_scale] = pd.DataFrame(scaler.transform(train[columns_to_scale]),\n",
    "                                                  columns=train[columns_to_scale].columns.values).set_index([train.index.values])"
   ]
  },
  {
   "cell_type": "code",
   "execution_count": 45,
   "id": "bfbf68c8",
   "metadata": {},
   "outputs": [],
   "source": [
    "validate_scaled[columns_to_scale] = pd.DataFrame(scaler.transform(validate[columns_to_scale]),\n",
    "                                                  columns=validate[columns_to_scale].columns.values).set_index([validate.index.values])"
   ]
  },
  {
   "cell_type": "code",
   "execution_count": 46,
   "id": "1304fd8e",
   "metadata": {},
   "outputs": [],
   "source": [
    "test_scaled[columns_to_scale] = pd.DataFrame(scaler.transform(test[columns_to_scale]),\n",
    "                                                 columns=test[columns_to_scale].columns.values).set_index([test.index.values])"
   ]
  },
  {
   "cell_type": "code",
   "execution_count": 47,
   "id": "28ede302",
   "metadata": {},
   "outputs": [
    {
     "data": {
      "text/plain": [
       "Index(['calculatedfinishedsquarefeet', 'fips', 'structuretaxvaluedollarcnt',\n",
       "       'taxvaluedollarcnt', 'landtaxvaluedollarcnt', 'taxamount', 'logerror',\n",
       "       'age', 'Sqft_age', 'Sqft_structuretax', 'Sqft_taxvalue', 'Sqft_landtax',\n",
       "       'Sqft_taxamount', 'age_structuretax', 'age_taxvalue', 'age_landtax',\n",
       "       'age_taxamount', 'Structuretax_taxvalue', 'Structuretax_landtax',\n",
       "       'Landtax_taxamount', 'structuretax_taxamount', 'taxvalue_landtax',\n",
       "       'taxvalue_taxamount'],\n",
       "      dtype='object')"
      ]
     },
     "execution_count": 47,
     "metadata": {},
     "output_type": "execute_result"
    }
   ],
   "source": [
    "train_scaled.columns"
   ]
  },
  {
   "cell_type": "code",
   "execution_count": 48,
   "id": "b13364b1",
   "metadata": {},
   "outputs": [],
   "source": [
    "X_train = train_scaled[['Sqft_age', 'calculatedfinishedsquarefeet', 'taxamount', 'Sqft_structuretax', 'Sqft_taxvalue', 'Sqft_landtax',\n",
    "       'Sqft_taxamount', 'age_structuretax', 'age_taxvalue', 'age_landtax',\n",
    "       'age_taxamount', 'Structuretax_taxvalue', 'Structuretax_landtax',\n",
    "       'Landtax_taxamount', 'structuretax_taxamount', 'taxvalue_landtax',\n",
    "       'taxvalue_taxamount']]\n",
    "y_train = train[['logerror']]"
   ]
  },
  {
   "cell_type": "code",
   "execution_count": 49,
   "id": "889bb5e9",
   "metadata": {},
   "outputs": [],
   "source": [
    "X_validate = validate_scaled[['Sqft_age', 'Sqft_structuretax', 'Sqft_taxvalue', 'Sqft_landtax',\n",
    "       'Sqft_taxamount', 'age_structuretax', 'age_taxvalue', 'age_landtax',\n",
    "       'age_taxamount', 'Structuretax_taxvalue', 'Structuretax_landtax',\n",
    "       'Landtax_taxamount', 'structuretax_taxamount', 'taxvalue_landtax',\n",
    "       'taxvalue_taxamount']]\n",
    "y_validate = validate[['logerror']]"
   ]
  },
  {
   "cell_type": "code",
   "execution_count": 50,
   "id": "f8740d1b",
   "metadata": {},
   "outputs": [],
   "source": [
    "X_test = test_scaled[['Sqft_age', 'Sqft_structuretax', 'Sqft_taxvalue', 'Sqft_landtax',\n",
    "       'Sqft_taxamount', 'age_structuretax', 'age_taxvalue', 'age_landtax',\n",
    "       'age_taxamount', 'Structuretax_taxvalue', 'Structuretax_landtax',\n",
    "       'Landtax_taxamount', 'structuretax_taxamount', 'taxvalue_landtax',\n",
    "       'taxvalue_taxamount']]\n",
    "y_test = test[['logerror']]"
   ]
  },
  {
   "cell_type": "code",
   "execution_count": null,
   "id": "a3823406",
   "metadata": {},
   "outputs": [],
   "source": []
  },
  {
   "cell_type": "code",
   "execution_count": null,
   "id": "defd118b",
   "metadata": {},
   "outputs": [],
   "source": []
  },
  {
   "cell_type": "code",
   "execution_count": null,
   "id": "1ff58e7b",
   "metadata": {},
   "outputs": [],
   "source": []
  },
  {
   "cell_type": "code",
   "execution_count": null,
   "id": "978eea4a",
   "metadata": {},
   "outputs": [],
   "source": []
  },
  {
   "cell_type": "code",
   "execution_count": null,
   "id": "4750fe0e",
   "metadata": {},
   "outputs": [],
   "source": [
    "y_train.mean()"
   ]
  },
  {
   "cell_type": "code",
   "execution_count": null,
   "id": "d3bd21e0",
   "metadata": {},
   "outputs": [],
   "source": [
    "y_train.mean()"
   ]
  },
  {
   "cell_type": "code",
   "execution_count": null,
   "id": "d6907fd9",
   "metadata": {},
   "outputs": [],
   "source": [
    "#trying to beat the median \n",
    "y_train.median()"
   ]
  },
  {
   "cell_type": "code",
   "execution_count": null,
   "id": "cbd13d90",
   "metadata": {},
   "outputs": [],
   "source": []
  },
  {
   "cell_type": "code",
   "execution_count": 51,
   "id": "da09d51d",
   "metadata": {},
   "outputs": [],
   "source": [
    "from sklearn.linear_model import LinearRegression, LassoLars, TweedieRegressor "
   ]
  },
  {
   "cell_type": "code",
   "execution_count": 52,
   "id": "904e2ecb",
   "metadata": {},
   "outputs": [],
   "source": [
    "from sklearn.feature_selection import RFE"
   ]
  },
  {
   "cell_type": "code",
   "execution_count": 53,
   "id": "9e7751fe",
   "metadata": {},
   "outputs": [],
   "source": [
    "def select_rfe (X_df, y_df, n = 1, model = LinearRegression(normalize=True), rank = False):\n",
    "    '''\n",
    "    Takes in the predictors, the target, and the number of features to select (k) ,\n",
    "    and returns the names of the top k selected features based on the Recursive Feature Elimination (RFE)\n",
    "    \n",
    "    X_df : the predictors\n",
    "    y_df : the target\n",
    "    n_features : the number of features to select (k)\n",
    "    method : LinearRegression, LassoLars, TweedieRegressor\n",
    "    Example\n",
    "    select_rfe(X_train_scaled, y_train, 2, LinearRegression())\n",
    "    '''\n",
    "    \n",
    "    rfe = RFE(estimator=model, n_features_to_select= n)\n",
    "    rfe.fit_transform(X_df, y_df)\n",
    "    mask = rfe.get_support()\n",
    "    rfe_feature = X_df.iloc[:,mask].columns.tolist()\n",
    "    # check if rank=True\n",
    "    if rank == True:\n",
    "        # get the ranks\n",
    "        var_ranks = rfe.ranking_\n",
    "        # get the variable names\n",
    "        var_names = X_df.columns.tolist()\n",
    "        # combine ranks and names into a df for clean viewing\n",
    "        rfe_ranks_df = pd.DataFrame({'Var': var_names, 'Rank': var_ranks})\n",
    "        # sort the df by rank\n",
    "        rfe_ranks_df = rfe_ranks_df.sort_values('Rank')\n",
    "        # print DataFrame of rankings\n",
    "    return rfe_feature, rfe_ranks_df\n"
   ]
  },
  {
   "cell_type": "code",
   "execution_count": 54,
   "id": "6f7dc0ba",
   "metadata": {},
   "outputs": [
    {
     "data": {
      "text/html": [
       "<div>\n",
       "<style scoped>\n",
       "    .dataframe tbody tr th:only-of-type {\n",
       "        vertical-align: middle;\n",
       "    }\n",
       "\n",
       "    .dataframe tbody tr th {\n",
       "        vertical-align: top;\n",
       "    }\n",
       "\n",
       "    .dataframe thead th {\n",
       "        text-align: right;\n",
       "    }\n",
       "</style>\n",
       "<table border=\"1\" class=\"dataframe\">\n",
       "  <thead>\n",
       "    <tr style=\"text-align: right;\">\n",
       "      <th></th>\n",
       "      <th>Var</th>\n",
       "      <th>Rank</th>\n",
       "    </tr>\n",
       "  </thead>\n",
       "  <tbody>\n",
       "    <tr>\n",
       "      <th>16</th>\n",
       "      <td>taxvalue_taxamount</td>\n",
       "      <td>1</td>\n",
       "    </tr>\n",
       "    <tr>\n",
       "      <th>14</th>\n",
       "      <td>structuretax_taxamount</td>\n",
       "      <td>1</td>\n",
       "    </tr>\n",
       "    <tr>\n",
       "      <th>3</th>\n",
       "      <td>Sqft_structuretax</td>\n",
       "      <td>1</td>\n",
       "    </tr>\n",
       "    <tr>\n",
       "      <th>13</th>\n",
       "      <td>Landtax_taxamount</td>\n",
       "      <td>1</td>\n",
       "    </tr>\n",
       "    <tr>\n",
       "      <th>12</th>\n",
       "      <td>Structuretax_landtax</td>\n",
       "      <td>1</td>\n",
       "    </tr>\n",
       "    <tr>\n",
       "      <th>6</th>\n",
       "      <td>Sqft_taxamount</td>\n",
       "      <td>1</td>\n",
       "    </tr>\n",
       "    <tr>\n",
       "      <th>7</th>\n",
       "      <td>age_structuretax</td>\n",
       "      <td>1</td>\n",
       "    </tr>\n",
       "    <tr>\n",
       "      <th>15</th>\n",
       "      <td>taxvalue_landtax</td>\n",
       "      <td>1</td>\n",
       "    </tr>\n",
       "    <tr>\n",
       "      <th>10</th>\n",
       "      <td>age_taxamount</td>\n",
       "      <td>1</td>\n",
       "    </tr>\n",
       "    <tr>\n",
       "      <th>1</th>\n",
       "      <td>calculatedfinishedsquarefeet</td>\n",
       "      <td>2</td>\n",
       "    </tr>\n",
       "    <tr>\n",
       "      <th>0</th>\n",
       "      <td>Sqft_age</td>\n",
       "      <td>3</td>\n",
       "    </tr>\n",
       "    <tr>\n",
       "      <th>5</th>\n",
       "      <td>Sqft_landtax</td>\n",
       "      <td>4</td>\n",
       "    </tr>\n",
       "    <tr>\n",
       "      <th>2</th>\n",
       "      <td>taxamount</td>\n",
       "      <td>5</td>\n",
       "    </tr>\n",
       "    <tr>\n",
       "      <th>9</th>\n",
       "      <td>age_landtax</td>\n",
       "      <td>6</td>\n",
       "    </tr>\n",
       "    <tr>\n",
       "      <th>8</th>\n",
       "      <td>age_taxvalue</td>\n",
       "      <td>7</td>\n",
       "    </tr>\n",
       "    <tr>\n",
       "      <th>4</th>\n",
       "      <td>Sqft_taxvalue</td>\n",
       "      <td>8</td>\n",
       "    </tr>\n",
       "    <tr>\n",
       "      <th>11</th>\n",
       "      <td>Structuretax_taxvalue</td>\n",
       "      <td>9</td>\n",
       "    </tr>\n",
       "  </tbody>\n",
       "</table>\n",
       "</div>"
      ],
      "text/plain": [
       "                             Var  Rank\n",
       "16            taxvalue_taxamount     1\n",
       "14        structuretax_taxamount     1\n",
       "3              Sqft_structuretax     1\n",
       "13             Landtax_taxamount     1\n",
       "12          Structuretax_landtax     1\n",
       "6                 Sqft_taxamount     1\n",
       "7               age_structuretax     1\n",
       "15              taxvalue_landtax     1\n",
       "10                 age_taxamount     1\n",
       "1   calculatedfinishedsquarefeet     2\n",
       "0                       Sqft_age     3\n",
       "5                   Sqft_landtax     4\n",
       "2                      taxamount     5\n",
       "9                    age_landtax     6\n",
       "8                   age_taxvalue     7\n",
       "4                  Sqft_taxvalue     8\n",
       "11         Structuretax_taxvalue     9"
      ]
     },
     "execution_count": 54,
     "metadata": {},
     "output_type": "execute_result"
    }
   ],
   "source": [
    "_, rank_features = select_rfe(X_train, y_train, n = 9, rank=True)\n",
    "rank_features"
   ]
  },
  {
   "cell_type": "code",
   "execution_count": null,
   "id": "c53f1628",
   "metadata": {},
   "outputs": [],
   "source": [
    "#Create my X and y variables for quick reference \n",
    "X = X_train.copy()\n",
    "y = y_train.copy()"
   ]
  },
  {
   "cell_type": "code",
   "execution_count": null,
   "id": "a2100e90",
   "metadata": {},
   "outputs": [],
   "source": [
    "#Create A and B variables for quick reference \n",
    "A = X_validate.copy()\n",
    "B = y_validate.copy()"
   ]
  },
  {
   "cell_type": "code",
   "execution_count": null,
   "id": "3ff0496c",
   "metadata": {},
   "outputs": [],
   "source": [
    "#Create a baseline \n",
    "baseline = y_train.median()\n",
    "baseline"
   ]
  },
  {
   "cell_type": "code",
   "execution_count": null,
   "id": "7545be07",
   "metadata": {},
   "outputs": [],
   "source": [
    "#Create dataframe with target variable and my baseline \n",
    "Ventura_df = pd.DataFrame(y)"
   ]
  },
  {
   "cell_type": "code",
   "execution_count": null,
   "id": "54017c6f",
   "metadata": {},
   "outputs": [],
   "source": [
    "#Create dataframe with validate target variable \n",
    "Ventura_validate_df = pd.DataFrame(B)"
   ]
  },
  {
   "cell_type": "code",
   "execution_count": null,
   "id": "7e3b5a4a",
   "metadata": {},
   "outputs": [],
   "source": [
    "#add a column for baseline\n",
    "Ventura_df['baseline'] = baseline"
   ]
  },
  {
   "cell_type": "code",
   "execution_count": null,
   "id": "68da404f",
   "metadata": {},
   "outputs": [],
   "source": [
    "#add a column for baseline residual, and baseline residual squared\n",
    "Ventura_df['baseline_residual'] = Ventura_df.logerror - Ventura_df.baseline\n",
    "Ventura_df['baseline_residual^2'] = Ventura_df.baseline_residual**2"
   ]
  },
  {
   "cell_type": "code",
   "execution_count": null,
   "id": "c2bf8c3f",
   "metadata": {},
   "outputs": [],
   "source": [
    "#Set the linear regression model \n",
    "lm = LinearRegression()"
   ]
  },
  {
   "cell_type": "code",
   "execution_count": null,
   "id": "74e177b6",
   "metadata": {},
   "outputs": [],
   "source": [
    "#fit the model \n",
    "lm.fit(X_train, y_train)"
   ]
  },
  {
   "cell_type": "code",
   "execution_count": null,
   "id": "46c737ea",
   "metadata": {},
   "outputs": [],
   "source": [
    "#print the coefficients \n",
    "lm.coef_[0]"
   ]
  },
  {
   "cell_type": "code",
   "execution_count": null,
   "id": "e71e61bf",
   "metadata": {},
   "outputs": [],
   "source": [
    "#Create a dataframe with my coefficients and x columns \n",
    "cdf = pd.DataFrame(X.columns)"
   ]
  },
  {
   "cell_type": "code",
   "execution_count": null,
   "id": "99442419",
   "metadata": {},
   "outputs": [],
   "source": [
    "#create predictions\n",
    "predictions = lm.predict(X_train)"
   ]
  },
  {
   "cell_type": "code",
   "execution_count": null,
   "id": "370a5b13",
   "metadata": {},
   "outputs": [],
   "source": [
    "#create a column for predictions \n",
    "Ventura_df['yhat'] = lm.predict(X_train)"
   ]
  },
  {
   "cell_type": "code",
   "execution_count": null,
   "id": "7c2cff78",
   "metadata": {},
   "outputs": [],
   "source": [
    "X_train.columns"
   ]
  },
  {
   "cell_type": "code",
   "execution_count": null,
   "id": "3f330e8c",
   "metadata": {},
   "outputs": [],
   "source": []
  },
  {
   "cell_type": "code",
   "execution_count": null,
   "id": "e983cea8",
   "metadata": {},
   "outputs": [],
   "source": [
    "#create validate predictions \n",
    "predictions_validate = lm.predict(X_validate)"
   ]
  },
  {
   "cell_type": "code",
   "execution_count": null,
   "id": "2e4a4ae8",
   "metadata": {},
   "outputs": [],
   "source": [
    "Ventura_validate_df['yhat_validate'] = lm.predict(X_validate)\n"
   ]
  },
  {
   "cell_type": "code",
   "execution_count": null,
   "id": "e5ee332d",
   "metadata": {},
   "outputs": [],
   "source": [
    "#print metrics\n",
    "mae = sklearn.metrics.mean_absolute_error(y_train, predictions)\n",
    "mse = sklearn.metrics.mean_squared_error(y_train, predictions)\n",
    "rmse = np.sqrt(sklearn.metrics.mean_squared_error(y_train, predictions))\n",
    "ev = sklearn.metrics.explained_variance_score(y_train, predictions)\n",
    "print(f'Mean Absolute Error: {mae}')\n",
    "print(f'Mean Squared Error: {mse}')\n",
    "print(f'Root Mean Squared Error: {rmse}')\n",
    "print(f'Explained Variance: {ev}')"
   ]
  },
  {
   "cell_type": "code",
   "execution_count": null,
   "id": "3458b9cd",
   "metadata": {},
   "outputs": [],
   "source": [
    "RMSE2 = sklearn.metrics.mean_squared_error(y_train, Ventura_df.yhat, squared = False)\n",
    "RMSE2_baseline = sklearn.metrics.mean_squared_error(y_train, Ventura_df.baseline, squared=False)\n",
    "\n",
    "print(\"RMSE\", RMSE2) \n",
    "print(\"RMSE baseline\" ,RMSE2_baseline)  "
   ]
  },
  {
   "cell_type": "code",
   "execution_count": null,
   "id": "187b381c",
   "metadata": {},
   "outputs": [],
   "source": [
    "RMSE_train = sklearn.metrics.mean_squared_error(y_train, Ventura_df.yhat, squared = False)\n",
    "RMSE_validate = sklearn.metrics.mean_squared_error(y_validate, Ventura_validate_df.yhat_validate, squared = False)\n",
    "\n",
    "print(\"RMSE In Sample\", RMSE_train) \n",
    "print(\"RMSE out of Sample\" ,RMSE_validate)"
   ]
  },
  {
   "cell_type": "code",
   "execution_count": null,
   "id": "f8e1320e",
   "metadata": {},
   "outputs": [],
   "source": [
    "from sklearn.preprocessing import PolynomialFeatures"
   ]
  },
  {
   "cell_type": "code",
   "execution_count": null,
   "id": "674ac059",
   "metadata": {},
   "outputs": [],
   "source": [
    "from sklearn.metrics import mean_squared_error"
   ]
  },
  {
   "cell_type": "code",
   "execution_count": null,
   "id": "67d06dc6",
   "metadata": {},
   "outputs": [],
   "source": [
    "X_train = X_train.copy()\n",
    "X_train = X_train.reshape(-1, 1)\n",
    "X_validate = X_validate.copy()\n",
    "X_validate = X_validate.reshape(-1, 1)\n",
    "X_test = X_test.copy()\n",
    "X_test = X_test.reshape(-1, 1)"
   ]
  },
  {
   "cell_type": "code",
   "execution_count": null,
   "id": "9c913c9b",
   "metadata": {},
   "outputs": [],
   "source": [
    "pf = PolynomialFeatures(degree=2)\n",
    "X_train_degree2 = pf.fit_transform(X_train)\n",
    "\n",
    "X_validate_degree2 = pf.transform(X_validate)\n",
    "X_test_degree2 = pf.transform(X_test)"
   ]
  },
  {
   "cell_type": "code",
   "execution_count": null,
   "id": "443b6f13",
   "metadata": {},
   "outputs": [],
   "source": [
    "lm2 = LinearRegression(normalize=True)\n",
    "lm2.fit(X_train_degree2, y_train)\n",
    "\n",
    "y_train['logerror_pred'] = lm2.predict(X_train_degree2)\n",
    "y_validate['logerror_pred'] = lm2.predict(X_validate_degree2)"
   ]
  },
  {
   "cell_type": "code",
   "execution_count": null,
   "id": "b678cccb",
   "metadata": {},
   "outputs": [],
   "source": [
    "pd.options.display.float_format = '{:.6f}'.format\n",
    "\n",
    "model_results = pd.concat([\n",
    "    y_train.apply(lambda col: mean_squared_error(y_train, col)**(1/2)).rename('train'),\n",
    "    y_validate.apply(lambda col: mean_squared_error(y_validate, col)**(1/2)).rename('validate')\n",
    "], axis=1)\n",
    "model_results.sort_values('validate')"
   ]
  },
  {
   "cell_type": "code",
   "execution_count": null,
   "id": "48ac5f7a",
   "metadata": {},
   "outputs": [],
   "source": []
  },
  {
   "cell_type": "code",
   "execution_count": null,
   "id": "3f4585a7",
   "metadata": {},
   "outputs": [],
   "source": []
  },
  {
   "cell_type": "code",
   "execution_count": null,
   "id": "39432b9d",
   "metadata": {},
   "outputs": [],
   "source": []
  },
  {
   "cell_type": "code",
   "execution_count": null,
   "id": "f601a30f",
   "metadata": {},
   "outputs": [],
   "source": []
  },
  {
   "cell_type": "code",
   "execution_count": null,
   "id": "bd61a53f",
   "metadata": {},
   "outputs": [],
   "source": []
  },
  {
   "cell_type": "code",
   "execution_count": null,
   "id": "83c1c89c",
   "metadata": {},
   "outputs": [],
   "source": []
  },
  {
   "cell_type": "code",
   "execution_count": null,
   "id": "9d5d1815",
   "metadata": {},
   "outputs": [],
   "source": []
  },
  {
   "cell_type": "code",
   "execution_count": null,
   "id": "edfe945c",
   "metadata": {},
   "outputs": [],
   "source": []
  },
  {
   "cell_type": "code",
   "execution_count": null,
   "id": "93bd0f2b",
   "metadata": {},
   "outputs": [],
   "source": []
  },
  {
   "cell_type": "code",
   "execution_count": null,
   "id": "8a41440b",
   "metadata": {},
   "outputs": [],
   "source": []
  },
  {
   "cell_type": "code",
   "execution_count": null,
   "id": "23d82499",
   "metadata": {},
   "outputs": [],
   "source": []
  },
  {
   "cell_type": "code",
   "execution_count": null,
   "id": "e1af8c27",
   "metadata": {},
   "outputs": [],
   "source": []
  },
  {
   "cell_type": "code",
   "execution_count": null,
   "id": "70949c66",
   "metadata": {},
   "outputs": [],
   "source": []
  },
  {
   "cell_type": "code",
   "execution_count": null,
   "id": "01d21f37",
   "metadata": {},
   "outputs": [],
   "source": []
  },
  {
   "cell_type": "code",
   "execution_count": null,
   "id": "3b7e5b17",
   "metadata": {},
   "outputs": [],
   "source": []
  },
  {
   "cell_type": "code",
   "execution_count": null,
   "id": "bceba81a",
   "metadata": {},
   "outputs": [],
   "source": []
  },
  {
   "cell_type": "code",
   "execution_count": null,
   "id": "a2388e89",
   "metadata": {},
   "outputs": [],
   "source": []
  },
  {
   "cell_type": "code",
   "execution_count": null,
   "id": "b1da27fa",
   "metadata": {},
   "outputs": [],
   "source": []
  },
  {
   "cell_type": "code",
   "execution_count": null,
   "id": "d36bfd97",
   "metadata": {},
   "outputs": [],
   "source": []
  },
  {
   "cell_type": "code",
   "execution_count": null,
   "id": "67ed1f10",
   "metadata": {},
   "outputs": [],
   "source": []
  },
  {
   "cell_type": "code",
   "execution_count": null,
   "id": "cd95caad",
   "metadata": {},
   "outputs": [],
   "source": []
  },
  {
   "cell_type": "code",
   "execution_count": null,
   "id": "73cc9172",
   "metadata": {},
   "outputs": [],
   "source": []
  },
  {
   "cell_type": "code",
   "execution_count": null,
   "id": "4d951dcc",
   "metadata": {},
   "outputs": [],
   "source": []
  },
  {
   "cell_type": "code",
   "execution_count": null,
   "id": "1ea7ddc4",
   "metadata": {},
   "outputs": [],
   "source": []
  },
  {
   "cell_type": "code",
   "execution_count": null,
   "id": "f30344a3",
   "metadata": {},
   "outputs": [],
   "source": []
  },
  {
   "cell_type": "code",
   "execution_count": null,
   "id": "a2efc8f4",
   "metadata": {},
   "outputs": [],
   "source": []
  },
  {
   "cell_type": "code",
   "execution_count": null,
   "id": "3071475e",
   "metadata": {},
   "outputs": [],
   "source": []
  },
  {
   "cell_type": "code",
   "execution_count": null,
   "id": "1561d75a",
   "metadata": {},
   "outputs": [],
   "source": []
  },
  {
   "cell_type": "code",
   "execution_count": null,
   "id": "fbf67fbd",
   "metadata": {},
   "outputs": [],
   "source": []
  },
  {
   "cell_type": "code",
   "execution_count": null,
   "id": "24c38940",
   "metadata": {},
   "outputs": [],
   "source": []
  },
  {
   "cell_type": "code",
   "execution_count": null,
   "id": "f831c0ac",
   "metadata": {},
   "outputs": [],
   "source": []
  },
  {
   "cell_type": "code",
   "execution_count": null,
   "id": "6443488a",
   "metadata": {},
   "outputs": [],
   "source": []
  },
  {
   "cell_type": "code",
   "execution_count": null,
   "id": "cecedf29",
   "metadata": {},
   "outputs": [],
   "source": []
  },
  {
   "cell_type": "code",
   "execution_count": null,
   "id": "7f000e4b",
   "metadata": {},
   "outputs": [],
   "source": []
  }
 ],
 "metadata": {
  "kernelspec": {
   "display_name": "Python 3 (ipykernel)",
   "language": "python",
   "name": "python3"
  },
  "language_info": {
   "codemirror_mode": {
    "name": "ipython",
    "version": 3
   },
   "file_extension": ".py",
   "mimetype": "text/x-python",
   "name": "python",
   "nbconvert_exporter": "python",
   "pygments_lexer": "ipython3",
   "version": "3.9.7"
  }
 },
 "nbformat": 4,
 "nbformat_minor": 5
}
